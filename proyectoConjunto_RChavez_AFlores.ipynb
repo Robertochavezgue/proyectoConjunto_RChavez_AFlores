{
 "cells": [
  {
   "cell_type": "markdown",
   "metadata": {},
   "source": [
    "<img style=\"float: left; margin: 30px 15px 15px 15px;\" src=\"https://pngimage.net/wp-content/uploads/2018/06/logo-iteso-png-5.png\" width=\"300\" height=\"500\" /> \n",
    "    \n",
    "    \n",
    "### <font color='navy'> Simulación de procesos financieros. \n",
    "\n",
    "**Nombres:** Roberto Chavez Guerrero y Andrea Flores Fernandez.\n",
    "\n",
    "**Fecha:** 26 de agosto del 2021.\n",
    "\n",
    "**Expediente** : if714643   y if725449.\n",
    "**Profesor:** Oscar David Jaramillo Zuluaga.\n",
    "    \n",
    "**Link Github**: https://github.com/Robertochavezgue/proyectoConjunto_RChavez_AFlores.git\n",
    "\n",
    "# Tarea 1: Clase 2"
   ]
  },
  {
   "cell_type": "markdown",
   "metadata": {},
   "source": [
    "## Enunciado de tarea\n",
    "1.  El archivo debe realizarse en parejas y sólo uno de los dos debe crear en su cuenta de *Github* un repositorio con el nombre **ProyectoConjunto\\_APELLIDO1\\_APELLIDO2**. A la persona que creó el repositorio la llamaremos (ESTUDIANTE 1 ). El APELLIDO se debe de escribir (Iniciales del nombre y primer apellido), por ejemplo si yo creara el archivo lo debería de nombrar *ProyectoConjunto\\_ODJaramillo*. \n",
    "1.  Posteriormente, desde la cuenta del (ESTUDIANTE 2), 'aquel que no creó el repositorio anterior', ingresar al perfil del ESTUDIANTE 1 y en el repositorio creado en el paso 1, realizar un \"fork\" de este repositorio en su perfil, y además realizar los pasos en Gitkraken para hacer dicho repositorio \"Remoto (REMOTE)\" VER DICHO PROCEDIMIENTO EN LA CLASE **Clase2_GitTurorial2**.\n",
    "1.  Luego de realizados los pasos 1 y 2, el ESTUDIANTE 1 y ESTUDIANTE 2, desde su computador realizar un *clone* del repositorio creado en el numeral 1 en la carpeta que cada quién haya asignado para el curso en su computador. \n",
    "1.  Luego desde Jupyter el ESTUDIANTE 1, crea un nuevo ``notebook`` en el repositorio del paso 3. \n",
    "1.  En este nuevo notebook el ESTUDIANTE 1 y ESTUDIANTE 2, deben realizar una presentación describiendo sus expectativas del curso y la transcipción de la Figura 1 y Figura 2 respectivamente, haciendo uso de la sintaxis Markdown. Recuerden definir unas celdas donde cada usuario modificará el cuaderno de python para evitar futuros conflictos. "
   ]
  },
  {
   "cell_type": "markdown",
   "metadata": {},
   "source": [
    "### Expectativas del Curso -  Estudiante 1"
   ]
  },
  {
   "cell_type": "markdown",
   "metadata": {},
   "source": [
    "# expectivas Roberto Chávez\n",
    "Yo espero de este curso comprender de una manera eficiente como es que funciona python ,utilizar diferentes formas de programar de manera más productiva,en lugar de utilizar las metodologías aprendidas en otras materias.\n",
    "De igual forma me gustaría mucho aprender en este curso todo lo relacionado con los procesos financieros añadido la eficiencia anteriormente mencionada.\n",
    "\n",
    "Asimismo también puedo darme cuenta que el aprendizaje el cuál podría lograr sería muy nutrido ya que es un area que a mi me agrada demasiado y precisamente por eso puedo esperar un desempeño considerable de mi parte hacia lo que anteriormente mencioné.\n"
   ]
  },
  {
   "cell_type": "markdown",
   "metadata": {},
   "source": [
    "### Expectativas del Curso -  Estudiante 2 (Andrea Flores)"
   ]
  },
  {
   "cell_type": "markdown",
   "metadata": {},
   "source": [
    "Mi mayor expectativa para este curso es que los conocimientos que adquiera puedan ayudarme a lo largo de mi vida profesional. Aprender a elaborar simulaciones usando la programación pero aunque el enfoque puede ser hacia el mundo financiero también me gustaría verlo aplicado para otros escenarios en diferentes temas. \n",
    "La materia tiene reputación de ser difícil y pesada, pero espero que aunque ese sea al caso, el enfoque siempre sea en aprender y no perderme solamente en intentar sacar una buena nota. \n"
   ]
  },
  {
   "cell_type": "markdown",
   "metadata": {},
   "source": [
    "### Figura 1 - Estudiante 1"
   ]
  },
  {
   "cell_type": "markdown",
   "metadata": {},
   "source": [
    "Código de solución estudiante 1"
   ]
  },
  {
   "cell_type": "markdown",
   "metadata": {},
   "source": [
    "| $$i$$ | $$x$$ | $$f_(x)$$ |\n",
    "|:-:|-|-|\n",
    "|$$0$$ | $$-1$$ | $$0.3678$$ |\n",
    "|$\\color{red}{1}$  | $\\color{red}{-0.5}$| $\\color{red}{0.7788}$  | \n",
    "|$\\color{blue}{2}$ | $\\color{blue}{0}$|  $\\color{blue}{1}$ |\n",
    "| $\\color{red}{3}$ | $\\color{red}{0.5}$|  $\\color{red}{0.7788}$ |\n",
    "| $$4$$ |  $$1$$ |  $$0.3678$$ |\n"
   ]
  },
  {
   "cell_type": "markdown",
   "metadata": {},
   "source": [
    "<div align=\"center\">Cuadro 1: tabla de valores$$f(x)$$ </div>"
   ]
  },
  {
   "cell_type": "markdown",
   "metadata": {},
   "source": [
    "\\begin{equation}\n",
    "\\int_{-1}^{ 1} e^{-x^2} dx{\\approx}\\frac{0,5}{3}[f(-1)+f(1)+4(\\color{red}{f(-0,5)+f(0,5)})+2\\color{blue}{(0)}]\n",
    "\\end{equation}\n",
    "\\begin{equation}\n",
    "{\\approx}\\frac{0,5}{3}[0.3678+0.3678+4(\\color{red}{0.7788+0.7788})+2\\cdot\\color{blue}{1}]{\\approx}1,4943\n",
    "\\end{equation}"
   ]
  },
  {
   "cell_type": "markdown",
   "metadata": {},
   "source": [
    "A modo de verificación, se calculará por software, el valor del área para n = 100, un valor mucho más elevado al que se utilizó anteriormente. Si lo calculado previamente es correcto, se esperaría que sea próximo al valor presentado a continuación para ser una buena aproximación."
   ]
  },
  {
   "cell_type": "markdown",
   "metadata": {},
   "source": [
    "\n",
    "\\begin{equation}\n",
    "y = \\int \\limits_{x=-1}^{x= 1} e^{-x^2}\\cdot dx {\\approx} 1,4943\n",
    "\\end{equation}"
   ]
  },
  {
   "cell_type": "markdown",
   "metadata": {},
   "source": [
    "### Figura 2 - Estudiante 2 (Andrea Flores)"
   ]
  },
  {
   "cell_type": "markdown",
   "metadata": {},
   "source": [
    "Código de solución estudiante 2"
   ]
  },
  {
   "cell_type": "markdown",
   "metadata": {},
   "source": [
    "\\begin{array}{|c|c|c|c|c|c|c|c|}\n",
    "\\hline i & 1 & 2 & 3 & 4 & 5 & 6 & 7 \\\\\n",
    "\\hline E_i(V) & 12 & 10 & 24 & 12 & - & - & -  \\\\\n",
    "\\hline r_i (\\Omega) & 0.1 & 0.5 & 0.2 & 0.5 & - & - & -\\\\\n",
    "\\hline R_i (\\Omega) & 25 & 40 & 16 & 20 & 9 & 4 & 20\\\\\n",
    "\\hline\n",
    "\\end{array}"
   ]
  },
  {
   "cell_type": "markdown",
   "metadata": {},
   "source": [
    " &nbsp;  &nbsp;  &nbsp;  <span style=\"color:teal\">Kemna y Vorst (1990)</span> muestran que las opciones asiáticas con media geométrica continua pueden valuar con el mismo enofoque de las opciones *plain vanilla*; solo se deben cambiar los parámetro de volatidad $\\sigma $ por $\\sigma_a $, y el costo de $b$ por $b_a$.   \n",
    "        &nbsp;  &nbsp;  &nbsp; De acuerdo con Kemma y Vorst, las fórmulas para valuar una opción de compra y una opcion de venta son: "
   ]
  },
  {
   "cell_type": "markdown",
   "metadata": {},
   "source": [
    " &nbsp;  &nbsp; &nbsp;  &nbsp;$ c  \\approx S_t e^{(b_A - r )(T - t)} \\phi (d_1) - Ke^{-r(T - t)} \\phi (d_2), $  \n",
    "$\\tag{3}$\n",
    " &nbsp;  &nbsp; &nbsp;  &nbsp;$ p  \\approx K e^{-r(T - 1)} \\phi (-d_2)- S_te^{(b_A - r)(T-t)} \\phi (-d_1). $ "
   ]
  },
  {
   "cell_type": "markdown",
   "metadata": {},
   "source": [
    "con $d_1$ y $d_2$ dados por: \n",
    "\n",
    " &nbsp;  &nbsp; &nbsp;  &nbsp;$d_1=\\frac{In(S_t/K)+(b_A + 1/2 \\sigma^2_a)(T-t)}{\\sigma  \\sqrt{T - t} }\\sigma, $ \n",
    "$\\tag{4}$\n",
    " &nbsp;  &nbsp; &nbsp;  &nbsp;$d_2= d_1 + \\sigma_a  \\sqrt{T - t} . $"
   ]
  },
  {
   "cell_type": "markdown",
   "metadata": {},
   "source": [
    "La funcion $ \\phi(d) $ es la función de distribución acumulada de  $E \\sim  N (0,1)$. La volatilidad ajustada es igual a: \n",
    "\n",
    " &nbsp;  &nbsp; &nbsp;  &nbsp;$ \\sigma_a = \\frac{\\sigma}{\\sqrt{3}},$\n",
    "\n",
    "mientras que el costo de acarreo ajustado es:\n",
    "\n",
    " &nbsp;  &nbsp; &nbsp;  &nbsp;$b_A = \\frac{1}{2}( v - \\frac{\\sigma^2}{6}).$\n"
   ]
  },
  {
   "cell_type": "markdown",
   "metadata": {},
   "source": [
    "### Fibonacci "
   ]
  },
  {
   "cell_type": "code",
   "execution_count": 2,
   "metadata": {},
   "outputs": [
    {
     "name": "stdout",
     "output_type": "stream",
     "text": [
      "1.0\n",
      "1.0\n",
      "2.0\n",
      "3.0000000000000004\n",
      "5.000000000000001\n",
      "8.000000000000002\n",
      "13.000000000000002\n",
      "21.000000000000004\n",
      "34.00000000000001\n",
      "55.000000000000014\n",
      "89.00000000000003\n"
     ]
    }
   ],
   "source": [
    "from math import sqrt\n",
    "def F(n):\n",
    "    return ((1+sqrt(5))**n-(1-sqrt(5))**n)/(2**n*sqrt(5))\n",
    "\n",
    "def Fibonacci(startNumber, endNumber):\n",
    "    n = 0\n",
    "    cur = F(n)\n",
    "    while cur <= endNumber:\n",
    "        if startNumber <= cur:\n",
    "            print(cur)\n",
    "        n += 1\n",
    "        cur = F(n)\n",
    "Fibonacci(1,100)"
   ]
  },
  {
   "cell_type": "markdown",
   "metadata": {},
   "source": [
    "### Números Primos"
   ]
  },
  {
   "cell_type": "code",
   "execution_count": 1,
   "metadata": {},
   "outputs": [
    {
     "data": {
      "text/plain": [
       "[2,\n",
       " 3,\n",
       " 5,\n",
       " 7,\n",
       " 11,\n",
       " 13,\n",
       " 17,\n",
       " 19,\n",
       " 23,\n",
       " 29,\n",
       " 31,\n",
       " 37,\n",
       " 41,\n",
       " 43,\n",
       " 47,\n",
       " 53,\n",
       " 59,\n",
       " 61,\n",
       " 67,\n",
       " 71,\n",
       " 73,\n",
       " 79,\n",
       " 83,\n",
       " 89,\n",
       " 97]"
      ]
     },
     "execution_count": 1,
     "metadata": {},
     "output_type": "execute_result"
    }
   ],
   "source": [
    "primos = []\n",
    "for x in range(1, 101):\n",
    "   if x > 1:\n",
    "       for i in range(2, x):\n",
    "           if (x % i) == 0:\n",
    "               break\n",
    "       else:\n",
    "           primos.append(x)\n",
    "primos"
   ]
  },
  {
   "cell_type": "code",
   "execution_count": null,
   "metadata": {},
   "outputs": [],
   "source": []
  }
 ],
 "metadata": {
  "kernelspec": {
   "display_name": "Python 3",
   "language": "python",
   "name": "python3"
  },
  "language_info": {
   "codemirror_mode": {
    "name": "ipython",
    "version": 3
   },
   "file_extension": ".py",
   "mimetype": "text/x-python",
   "name": "python",
   "nbconvert_exporter": "python",
   "pygments_lexer": "ipython3",
   "version": "3.8.8"
  }
 },
 "nbformat": 4,
 "nbformat_minor": 2
}
